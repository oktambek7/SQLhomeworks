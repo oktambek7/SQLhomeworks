{
 "cells": [
  {
   "cell_type": "code",
   "execution_count": null,
   "metadata": {},
   "outputs": [],
   "source": [
    "import pyodbc # SQL SERVER\n",
    "\n",
    "con_str = \"DRIVER={SQL SERVER};SERVER=DESKTOP-495GBSC;DATABASE=lesson_2_homework;Trusted_Connection=yes;\"\n",
    "con = pyodbc.connect(con_str)\n",
    "cursor = con.cursor()\n",
    "\n",
    "cursor.execute(\n",
    "    \"\"\"\n",
    "    SELECT * FROM Photos;\n",
    "    \"\"\"\n",
    ")\n",
    "\n",
    "row = cursor.fetchone()\n",
    "id, name, photo = row\n",
    "\n",
    "with open('spiderman.png', 'wb') as f:\n",
    "    f.write(photo)"
   ]
  }
 ],
 "metadata": {
  "kernelspec": {
   "display_name": "Python 3",
   "language": "python",
   "name": "python3"
  },
  "language_info": {
   "codemirror_mode": {
    "name": "ipython",
    "version": 3
   },
   "file_extension": ".py",
   "mimetype": "text/x-python",
   "name": "python",
   "nbconvert_exporter": "python",
   "pygments_lexer": "ipython3",
   "version": "3.13.3"
  }
 },
 "nbformat": 4,
 "nbformat_minor": 2
}
